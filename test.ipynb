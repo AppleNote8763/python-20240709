{
 "cells": [
  {
   "cell_type": "code",
   "execution_count": 34,
   "metadata": {},
   "outputs": [],
   "source": [
    "class Solution:\n",
    "    def solution(self, array, queries):\n",
    "        for s, e in queries:\n",
    "            for i in range(s, e + 1):\n",
    "                array[i] += 1\n",
    "        return array\n",
    "    \n"
   ]
  },
  {
   "cell_type": "code",
   "execution_count": 35,
   "metadata": {},
   "outputs": [
    {
     "name": "stdout",
     "output_type": "stream",
     "text": [
      "[1, 3, 4, 4, 4]\n"
     ]
    }
   ],
   "source": [
    "solution_instance = Solution()\n",
    "array = [0, 1, 2, 3, 4]\n",
    "queries = [[0, 1],[1, 2],[2, 3]]\n",
    "result = solution_instance.solution(array, queries)\n",
    "print(result)"
   ]
  },
  {
   "cell_type": "code",
   "execution_count": null,
   "metadata": {},
   "outputs": [],
   "source": [
    "class Solution:\n",
    "    def solution(self, number):\n",
    "        sum = 0\n",
    "        if (number < 0):\n",
    "            return 0\n",
    "        else:\n",
    "            while number != 0:\n",
    "                sum += number % 10\n",
    "                number //= 10\n",
    "        return sum"
   ]
  },
  {
   "cell_type": "code",
   "execution_count": 37,
   "metadata": {},
   "outputs": [
    {
     "name": "stdout",
     "output_type": "stream",
     "text": [
      "0\n"
     ]
    }
   ],
   "source": [
    "solution_instance = Solution()\n",
    "result = solution_instance.solution(0)\n",
    "print(result)"
   ]
  }
 ],
 "metadata": {
  "kernelspec": {
   "display_name": "Python 3",
   "language": "python",
   "name": "python3"
  },
  "language_info": {
   "codemirror_mode": {
    "name": "ipython",
    "version": 3
   },
   "file_extension": ".py",
   "mimetype": "text/x-python",
   "name": "python",
   "nbconvert_exporter": "python",
   "pygments_lexer": "ipython3",
   "version": "3.12.4"
  }
 },
 "nbformat": 4,
 "nbformat_minor": 2
}
